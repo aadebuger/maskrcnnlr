{
 "cells": [
  {
   "cell_type": "code",
   "execution_count": null,
   "metadata": {},
   "outputs": [],
   "source": [
    "!python object_detection/legacy/train.py \\\n",
    "--train_dir=/content/drive/learning/DL/projects/object_detection/multiple_object_mask/CP \\\n",
    "--pipeline_config_path=/content/drive/learning/DL/projects/object_detection/multiple_object_mask/mask_rcnn_inception_v2_coco.config"
   ]
  }
 ],
 "metadata": {
  "kernelspec": {
   "display_name": "Python 3",
   "language": "python",
   "name": "python3"
  },
  "language_info": {
   "codemirror_mode": {
    "name": "ipython",
    "version": 3
   },
   "file_extension": ".py",
   "mimetype": "text/x-python",
   "name": "python",
   "nbconvert_exporter": "python",
   "pygments_lexer": "ipython3",
   "version": "3.6.5"
  }
 },
 "nbformat": 4,
 "nbformat_minor": 2
}
