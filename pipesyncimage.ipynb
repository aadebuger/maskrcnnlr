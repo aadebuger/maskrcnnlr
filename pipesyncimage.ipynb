{
 "cells": [
  {
   "cell_type": "code",
   "execution_count": 1,
   "metadata": {
    "ExecuteTime": {
     "end_time": "2019-02-03T04:58:46.503998Z",
     "start_time": "2019-02-03T04:58:46.499743Z"
    }
   },
   "outputs": [],
   "source": [
    "sdir='/Users/aadebuger/GEXT/cloud2019/machinevision/data/tz20'\n",
    "ddir='./datasets/images'"
   ]
  },
  {
   "cell_type": "code",
   "execution_count": 2,
   "metadata": {
    "ExecuteTime": {
     "end_time": "2019-02-03T16:06:08.464989Z",
     "start_time": "2019-02-03T16:06:08.461744Z"
    }
   },
   "outputs": [],
   "source": [
    "import os\n",
    "import shutil"
   ]
  },
  {
   "cell_type": "code",
   "execution_count": 3,
   "metadata": {
    "ExecuteTime": {
     "end_time": "2019-02-03T05:03:50.420983Z",
     "start_time": "2019-02-03T05:03:50.396087Z"
    }
   },
   "outputs": [
    {
     "data": {
      "text/plain": [
       "'./datasets/images/tz20frame418.jpg'"
      ]
     },
     "execution_count": 3,
     "metadata": {},
     "output_type": "execute_result"
    }
   ],
   "source": [
    "shutil.copy('/Users/aadebuger/GEXT/cloud2019/machinevision/data/tz20/tz20frame418.jpg','./datasets/images/tz20frame418.jpg')"
   ]
  },
  {
   "cell_type": "code",
   "execution_count": 5,
   "metadata": {
    "ExecuteTime": {
     "end_time": "2019-02-03T05:05:35.931682Z",
     "start_time": "2019-02-03T05:05:35.913745Z"
    }
   },
   "outputs": [
    {
     "data": {
      "text/plain": [
       "'./datasets/images/tz20frame438.jpg'"
      ]
     },
     "execution_count": 5,
     "metadata": {},
     "output_type": "execute_result"
    }
   ],
   "source": [
    "filename='tz20frame438.jpg'\n",
    "shutil.copy('/Users/aadebuger/GEXT/cloud2019/machinevision/data/tz20/{0}'.format(filename),'./datasets/images/{0}'.format(filename))"
   ]
  },
  {
   "cell_type": "code",
   "execution_count": 7,
   "metadata": {
    "ExecuteTime": {
     "end_time": "2019-02-03T05:08:00.379509Z",
     "start_time": "2019-02-03T05:08:00.338893Z"
    }
   },
   "outputs": [],
   "source": [
    "for item in range(448,558,10):\n",
    "    filename='tz20frame{0}.jpg'.format(item)\n",
    "    shutil.copy('/Users/aadebuger/GEXT/cloud2019/machinevision/data/tz20/{0}'.format(filename),'./datasets/images/{0}'.format(filename))    "
   ]
  },
  {
   "cell_type": "code",
   "execution_count": 8,
   "metadata": {
    "ExecuteTime": {
     "end_time": "2019-02-03T05:29:56.853804Z",
     "start_time": "2019-02-03T05:29:56.806774Z"
    }
   },
   "outputs": [],
   "source": [
    "for item in range(448,558,10):\n",
    "    filename='tz20frame{0}.jpg'.format(item)\n",
    "    shutil.copy('/Users/aadebuger/GEXT/cloud2019/machinevision/data/tz20/{0}'.format(filename),'./datasets/JPEGImages/{0}'.format(filename))    "
   ]
  },
  {
   "cell_type": "code",
   "execution_count": 9,
   "metadata": {
    "ExecuteTime": {
     "end_time": "2019-02-03T05:34:37.104200Z",
     "start_time": "2019-02-03T05:34:37.062181Z"
    }
   },
   "outputs": [],
   "source": [
    "for item in range(448,558,10):\n",
    "    filename='tz20frame{0}_color_mask.png'.format(item)\n",
    "    destfilename='tz20frame{0}.png'.format(item)\n",
    "    shutil.copy('./datasets/images/{0}'.format(filename),'./datasets/Annotations/{0}'.format(destfilename))    "
   ]
  },
  {
   "cell_type": "code",
   "execution_count": 10,
   "metadata": {
    "ExecuteTime": {
     "end_time": "2019-02-03T05:59:51.389978Z",
     "start_time": "2019-02-03T05:59:51.066692Z"
    }
   },
   "outputs": [],
   "source": [
    "import cv2"
   ]
  },
  {
   "cell_type": "code",
   "execution_count": 5,
   "metadata": {
    "ExecuteTime": {
     "end_time": "2019-02-03T16:52:31.655264Z",
     "start_time": "2019-02-03T16:52:31.552570Z"
    }
   },
   "outputs": [],
   "source": [
    "i=0\n",
    "for item in range(445,558,10):\n",
    "    filename='tz20frame{0}.jpg'.format(item)\n",
    "    shutil.copy('/Users/aadebuger/GEXT/cloud2019/machinevision/data/tz20/{0}'.format(filename),'./datasets/tests/image{0}.jpg'.format(i)) \n",
    "    i=i+1"
   ]
  },
  {
   "cell_type": "code",
   "execution_count": null,
   "metadata": {},
   "outputs": [],
   "source": []
  }
 ],
 "metadata": {
  "kernelspec": {
   "display_name": "Python 3",
   "language": "python",
   "name": "python3"
  },
  "language_info": {
   "codemirror_mode": {
    "name": "ipython",
    "version": 3
   },
   "file_extension": ".py",
   "mimetype": "text/x-python",
   "name": "python",
   "nbconvert_exporter": "python",
   "pygments_lexer": "ipython3",
   "version": "3.6.5"
  }
 },
 "nbformat": 4,
 "nbformat_minor": 2
}
