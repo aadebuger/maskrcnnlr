{
 "cells": [
  {
   "cell_type": "code",
   "execution_count": 2,
   "metadata": {
    "ExecuteTime": {
     "end_time": "2019-02-11T16:10:15.747435Z",
     "start_time": "2019-02-11T16:10:13.060436Z"
    }
   },
   "outputs": [
    {
     "name": "stdout",
     "output_type": "stream",
     "text": [
      "Traceback (most recent call last):\r\n",
      "  File \"create_mask_rcnn_tf_record.py\", line 230, in <module>\r\n",
      "    tf.app.run()\r\n",
      "  File \"/Users/aadebuger/GEXT/maskrcnnvenv3/lib/python3.6/site-packages/tensorflow/python/platform/app.py\", line 125, in run\r\n",
      "    _sys.exit(main(argv))\r\n",
      "  File \"create_mask_rcnn_tf_record.py\", line 211, in main\r\n",
      "    label_map_dict = label_map_util.get_label_map_dict(FLAGS.label_map_path)\r\n",
      "  File \"/Users/aadebuger/GEXT/github2019/models/research/object_detection/utils/label_map_util.py\", line 164, in get_label_map_dict\r\n",
      "    label_map = load_labelmap(label_map_path)\r\n",
      "  File \"/Users/aadebuger/GEXT/github2019/models/research/object_detection/utils/label_map_util.py\", line 133, in load_labelmap\r\n",
      "    label_map_string = fid.read()\r\n",
      "  File \"/Users/aadebuger/GEXT/maskrcnnvenv3/lib/python3.6/site-packages/tensorflow/python/lib/io/file_io.py\", line 125, in read\r\n",
      "    self._preread_check()\r\n",
      "  File \"/Users/aadebuger/GEXT/maskrcnnvenv3/lib/python3.6/site-packages/tensorflow/python/lib/io/file_io.py\", line 85, in _preread_check\r\n",
      "    compat.as_bytes(self.__name), 1024 * 512, status)\r\n",
      "  File \"/Users/aadebuger/GEXT/maskrcnnvenv3/lib/python3.6/site-packages/tensorflow/python/framework/errors_impl.py\", line 528, in __exit__\r\n",
      "    c_api.TF_GetCode(self.status.status))\r\n",
      "tensorflow.python.framework.errors_impl.NotFoundError: ./dataset/label.pbtxt; No such file or directory\r\n"
     ]
    }
   ],
   "source": [
    "!python create_mask_rcnn_tf_record.py --data_dir=./dataset --annotations_dir=Annotations --image_dir=JPEGImages --output_dir=./dataset/train2.record --label_map_path=./dataset/label.pbtxt\n"
   ]
  },
  {
   "cell_type": "code",
   "execution_count": 3,
   "metadata": {
    "ExecuteTime": {
     "end_time": "2019-02-11T16:11:01.574490Z",
     "start_time": "2019-02-11T16:10:58.097662Z"
    }
   },
   "outputs": [
    {
     "name": "stdout",
     "output_type": "stream",
     "text": [
      "done\n",
      "done\n",
      "done\n",
      "done\n",
      "done\n",
      "done\n",
      "done\n",
      "done\n",
      "done\n",
      "done\n",
      "done\n",
      "tz20frame538 bounding box for speaker 0.0 959.0 0.0 543.0\n",
      "tz20frame538 bounding box for cup 0.0 498.0 0.0 4.0\n",
      "done\n",
      "done\n"
     ]
    }
   ],
   "source": [
    "!python create_mask_rcnn_tf_record.py --data_dir=./datasets --annotations_dir=Annotations --image_dir=JPEGImages --output_dir=./datasets/train2.record --label_map_path=./datasets/label.pbtxt\n"
   ]
  },
  {
   "cell_type": "code",
   "execution_count": 4,
   "metadata": {
    "ExecuteTime": {
     "end_time": "2019-02-11T16:17:34.087552Z",
     "start_time": "2019-02-11T16:17:30.297776Z"
    }
   },
   "outputs": [
    {
     "name": "stdout",
     "output_type": "stream",
     "text": [
      "tz20frame418 bounding box for speaker 106.0 492.0 200.0 480.0\n",
      "done\n",
      "tz20frame438 bounding box for speaker 154.0 528.0 200.0 483.0\n",
      "done\n",
      "tz20frame448 bounding box for speaker 175.0 547.0 198.0 471.0\n",
      "done\n",
      "tz20frame458 bounding box for speaker 200.0 567.0 197.0 481.0\n",
      "done\n",
      "tz20frame468 bounding box for speaker 223.0 586.0 192.0 468.0\n",
      "done\n",
      "tz20frame478 bounding box for speaker 250.0 605.0 198.0 484.0\n",
      "done\n",
      "tz20frame488 bounding box for speaker 270.0 626.0 202.0 490.0\n",
      "done\n",
      "tz20frame498 bounding box for speaker 292.0 647.0 205.0 482.0\n",
      "done\n",
      "tz20frame508 bounding box for speaker 318.0 668.0 203.0 493.0\n",
      "done\n",
      "tz20frame518 bounding box for speaker 338.0 687.0 203.0 493.0\n",
      "done\n",
      "tz20frame528 bounding box for speaker 362.0 709.0 204.0 496.0\n",
      "done\n",
      "tz20frame538 bounding box for speaker 0.0 959.0 0.0 543.0\n",
      "tz20frame538 bounding box for cup 0.0 498.0 0.0 4.0\n",
      "done\n",
      "tz20frame548 bounding box for speaker 413.0 753.0 203.0 496.0\n",
      "done\n"
     ]
    }
   ],
   "source": [
    "!python create_mask_rcnn_tf_record.py --data_dir=./datasets --annotations_dir=Annotations --image_dir=JPEGImages --output_dir=./datasets/train2.record --label_map_path=./datasets/label.pbtxt\n"
   ]
  },
  {
   "cell_type": "code",
   "execution_count": null,
   "metadata": {},
   "outputs": [],
   "source": []
  }
 ],
 "metadata": {
  "kernelspec": {
   "display_name": "Python 3",
   "language": "python",
   "name": "python3"
  },
  "language_info": {
   "codemirror_mode": {
    "name": "ipython",
    "version": 3
   },
   "file_extension": ".py",
   "mimetype": "text/x-python",
   "name": "python",
   "nbconvert_exporter": "python",
   "pygments_lexer": "ipython3",
   "version": "3.6.5"
  }
 },
 "nbformat": 4,
 "nbformat_minor": 2
}
